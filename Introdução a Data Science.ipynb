{
 "cells": [
  {
   "cell_type": "markdown",
   "id": "ca0e8523",
   "metadata": {},
   "source": [
    "# Analisando as notas em geral"
   ]
  },
  {
   "cell_type": "code",
   "execution_count": 2,
   "id": "af8e408c",
   "metadata": {},
   "outputs": [
    {
     "ename": "AttributeError",
     "evalue": "module 'seaborn' has no attribute '_version_'",
     "output_type": "error",
     "traceback": [
      "\u001b[1;31m---------------------------------------------------------------------------\u001b[0m",
      "\u001b[1;31mAttributeError\u001b[0m                            Traceback (most recent call last)",
      "\u001b[1;32m~\\AppData\\Local\\Temp/ipykernel_18844/3007544755.py\u001b[0m in \u001b[0;36m<module>\u001b[1;34m\u001b[0m\n\u001b[0;32m      1\u001b[0m \u001b[1;32mimport\u001b[0m \u001b[0mseaborn\u001b[0m \u001b[1;32mas\u001b[0m \u001b[0msns\u001b[0m\u001b[1;33m\u001b[0m\u001b[1;33m\u001b[0m\u001b[0m\n\u001b[1;32m----> 2\u001b[1;33m \u001b[0mprint\u001b[0m\u001b[1;33m(\u001b[0m\u001b[0msns\u001b[0m\u001b[1;33m.\u001b[0m\u001b[0m_version_\u001b[0m\u001b[1;33m)\u001b[0m\u001b[1;33m\u001b[0m\u001b[1;33m\u001b[0m\u001b[0m\n\u001b[0m",
      "\u001b[1;31mAttributeError\u001b[0m: module 'seaborn' has no attribute '_version_'"
     ]
    }
   ],
   "source": [
    "import seaborn as sns\n",
    "print(sns._version_)"
   ]
  },
  {
   "cell_type": "code",
   "execution_count": null,
   "id": "874ae568",
   "metadata": {},
   "outputs": [],
   "source": [
    "import pandas as pd\n",
    "\n",
    "notas = pd.read_csv('ratings.csv')\n",
    "notas.head()"
   ]
  },
  {
   "cell_type": "code",
   "execution_count": null,
   "id": "93e9e25f",
   "metadata": {},
   "outputs": [],
   "source": [
    "notas.shape"
   ]
  },
  {
   "cell_type": "code",
   "execution_count": null,
   "id": "f3717361",
   "metadata": {},
   "outputs": [],
   "source": [
    "notas.columns = [\"usuarioId\", \"filmeId\", \"nota\", \"momento\"]\n",
    "notas.head()"
   ]
  },
  {
   "cell_type": "code",
   "execution_count": null,
   "id": "16d3fdb4",
   "metadata": {},
   "outputs": [],
   "source": [
    "notas['nota'].unique()"
   ]
  },
  {
   "cell_type": "code",
   "execution_count": null,
   "id": "3a2932f3",
   "metadata": {},
   "outputs": [],
   "source": [
    "notas[\"nota\"].value_counts()"
   ]
  },
  {
   "cell_type": "code",
   "execution_count": null,
   "id": "69673bc2",
   "metadata": {},
   "outputs": [],
   "source": [
    "print(\"Média\",notas['nota'].mean())\n",
    "print(\"Mediana\",notas['nota'].median())"
   ]
  },
  {
   "cell_type": "code",
   "execution_count": null,
   "id": "c923d789",
   "metadata": {},
   "outputs": [],
   "source": [
    "notas.nota"
   ]
  },
  {
   "cell_type": "code",
   "execution_count": null,
   "id": "43b4562e",
   "metadata": {},
   "outputs": [],
   "source": [
    " notas.nota.head()"
   ]
  },
  {
   "cell_type": "code",
   "execution_count": null,
   "id": "5a838297",
   "metadata": {},
   "outputs": [],
   "source": [
    "notas.nota.plot()"
   ]
  },
  {
   "cell_type": "code",
   "execution_count": null,
   "id": "afe9c069",
   "metadata": {},
   "outputs": [],
   "source": [
    "notas.nota.plot(kind=\"hist\")"
   ]
  },
  {
   "cell_type": "code",
   "execution_count": null,
   "id": "653476ae",
   "metadata": {},
   "outputs": [],
   "source": [
    "notas.nota.describe()"
   ]
  },
  {
   "cell_type": "code",
   "execution_count": null,
   "id": "ed52b9e8",
   "metadata": {},
   "outputs": [],
   "source": [
    "import seaborn as sns\n",
    "sns.boxplot(notas.nota)"
   ]
  },
  {
   "cell_type": "markdown",
   "id": "7b612e7b",
   "metadata": {},
   "source": [
    "# Olhando os filmes"
   ]
  },
  {
   "cell_type": "code",
   "execution_count": null,
   "id": "6586dda5",
   "metadata": {},
   "outputs": [],
   "source": [
    "filmes = pd.read_csv('movies.csv')\n",
    "filmes.columns = [\"filmeId\", \"titulo\", \"generos\"]\n",
    "filmes.head()"
   ]
  },
  {
   "cell_type": "code",
   "execution_count": null,
   "id": "b7aaa175",
   "metadata": {},
   "outputs": [],
   "source": [
    "notas.head()"
   ]
  },
  {
   "cell_type": "markdown",
   "id": "9d3883c6",
   "metadata": {},
   "source": [
    "# Analisando as notas especificas por filme"
   ]
  },
  {
   "cell_type": "code",
   "execution_count": null,
   "id": "5c36aa72",
   "metadata": {},
   "outputs": [],
   "source": [
    "notas.query(\"filmeId==1\").nota.mean()"
   ]
  },
  {
   "cell_type": "code",
   "execution_count": null,
   "id": "f8138f42",
   "metadata": {},
   "outputs": [],
   "source": [
    "notas.query(\"filmeId==2\").nota.mean()"
   ]
  },
  {
   "cell_type": "code",
   "execution_count": null,
   "id": "9c0dd9f1",
   "metadata": {},
   "outputs": [],
   "source": [
    "medias_por_filme = notas.groupby(\"filmeId\").mean()[\"nota\"]\n",
    "medias_por_filme.head()"
   ]
  },
  {
   "cell_type": "code",
   "execution_count": null,
   "id": "d98daabc",
   "metadata": {},
   "outputs": [],
   "source": [
    "medias_por_filme.plot(kind=\"hist\")"
   ]
  },
  {
   "cell_type": "code",
   "execution_count": null,
   "id": "4364668b",
   "metadata": {},
   "outputs": [],
   "source": [
    "import matplotlib.pyplot as plt\n",
    "plt.figure(figsize-(5,8))\n",
    "sns.boxplot(y=medias_por_filme)"
   ]
  },
  {
   "cell_type": "code",
   "execution_count": null,
   "id": "be8f3142",
   "metadata": {},
   "outputs": [],
   "source": [
    "medias_por_filme.describe()"
   ]
  },
  {
   "cell_type": "code",
   "execution_count": null,
   "id": "af918032",
   "metadata": {},
   "outputs": [],
   "source": [
    "sns.distplot(medias_por_filme)"
   ]
  },
  {
   "cell_type": "code",
   "execution_count": null,
   "id": "2bbf7241",
   "metadata": {},
   "outputs": [],
   "source": [
    "import matplotlib.pyplot as plt\n",
    "plt.hist(medias_por_filme)\n",
    "plt.title(\"Histograma das médias dos filmes\")"
   ]
  },
  {
   "cell_type": "code",
   "execution_count": null,
   "id": "f351aa83",
   "metadata": {},
   "outputs": [],
   "source": [
    "tmdb = pd.read_csv(\"tmdb_5000_movies.csv\")\n",
    "tmdb.head()"
   ]
  },
  {
   "cell_type": "code",
   "execution_count": null,
   "id": "87b3368c",
   "metadata": {},
   "outputs": [],
   "source": [
    "tmdb.original_language.unique()"
   ]
  },
  {
   "cell_type": "code",
   "execution_count": null,
   "id": "7b415aab",
   "metadata": {},
   "outputs": [],
   "source": [
    "tmdb[\"original_language\"].value_counts().index"
   ]
  },
  {
   "cell_type": "code",
   "execution_count": null,
   "id": "bb6a4367",
   "metadata": {},
   "outputs": [],
   "source": [
    "tmdb[\"original_language\"].value_counts().values"
   ]
  },
  {
   "cell_type": "code",
   "execution_count": null,
   "id": "579bfa5e",
   "metadata": {},
   "outputs": [],
   "source": [
    "tmdb[\"original_language\"].value_counts().to_frame().reset_index()"
   ]
  },
  {
   "cell_type": "code",
   "execution_count": null,
   "id": "08fa9b35",
   "metadata": {},
   "outputs": [],
   "source": [
    "contagem_de_lingua = tmdb[\"original_language\"].value_counts().to_frame().reset_index()\n",
    "contagem_de_lingua.columns = [\"original_language\", \"total\"]\n",
    "contagem_de_lingua.head()"
   ]
  },
  {
   "cell_type": "code",
   "execution_count": null,
   "id": "a57cc097",
   "metadata": {},
   "outputs": [],
   "source": [
    "sns.barplot(x = \"original_language\", y = \"total\", data = contagem_de_lingua)"
   ]
  },
  {
   "cell_type": "code",
   "execution_count": null,
   "id": "f147b92e",
   "metadata": {},
   "outputs": [],
   "source": [
    "sns.catplot(x = \"original_language\", kind = \"count\", data = tmdb)"
   ]
  },
  {
   "cell_type": "code",
   "execution_count": null,
   "id": "1802eb7a",
   "metadata": {},
   "outputs": [],
   "source": []
  },
  {
   "cell_type": "code",
   "execution_count": null,
   "id": "6d1c8946",
   "metadata": {},
   "outputs": [],
   "source": []
  }
 ],
 "metadata": {
  "kernelspec": {
   "display_name": "Python 3 (ipykernel)",
   "language": "python",
   "name": "python3"
  },
  "language_info": {
   "codemirror_mode": {
    "name": "ipython",
    "version": 3
   },
   "file_extension": ".py",
   "mimetype": "text/x-python",
   "name": "python",
   "nbconvert_exporter": "python",
   "pygments_lexer": "ipython3",
   "version": "3.9.5"
  }
 },
 "nbformat": 4,
 "nbformat_minor": 5
}
